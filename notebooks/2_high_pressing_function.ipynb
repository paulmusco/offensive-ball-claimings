{
 "cells": [
  {
   "cell_type": "code",
   "execution_count": 6,
   "metadata": {},
   "outputs": [],
   "source": [
    "def high_pressing(match_id, min_duration, min_players):\n",
    "    import pandas as pd\n",
    "    import numpy as np\n",
    "    pd.set_option('display.max_columns', None)\n",
    "\n",
    "    events = pd.read_json(f'../data/{match_id}.json', orient='records')\n",
    "\n",
    "    # Calculate direction each team is attacking\n",
    "    kick_off1_id = events.loc[1, 'teamId']\n",
    "    kick_off2_id = events.loc[events['episode'] == 2, 'teamId'].iloc[0]\n",
    "\n",
    "    if (float(events.loc[0, 'coordinates']['x']) - float(events.loc[2, 'coordinates']['x'])) > 0:\n",
    "        attacking_right1_left2 = kick_off1_id\n",
    "        attacking_left1_right2 = kick_off2_id\n",
    "    else:\n",
    "        attacking_left1_right2 = kick_off1_id\n",
    "        attacking_right1_left2 = kick_off2_id\n",
    "\n",
    "    # Events taking place in attacking third\n",
    "    attacking_third_events = np.where(\n",
    "        ((events['interval'] == 1) & (events['teamId'] == attacking_right1_left2) & (events['x_coord'] >= 70)) | \n",
    "        ((events['interval'] == 1) & (events['teamId'] == attacking_left1_right2) & (events['x_coord'] <= 35)) | \n",
    "        ((events['interval'] == 2) & (events['teamId'] == attacking_left1_right2) & (events['x_coord'] >= 70)) | \n",
    "        ((events['interval'] == 2) & (events['teamId'] == attacking_right1_left2) & (events['x_coord'] <= 35)))\n",
    "\n",
    "    # Events that aren't a 'standard situation'\n",
    "    standard_situations = ['KICKOFF', 'FREE_KICK', 'CORNER_KICK', 'THROW_IN', 'GOAL_KICK']\n",
    "    standard_start = []\n",
    "\n",
    "    for situation in standard_situations:\n",
    "        for i in events.index:\n",
    "            if situation in events.loc[i, 'qualifiers']:\n",
    "                standard_start.append(i)\n",
    "\n",
    "    for i in events.index:\n",
    "        if events.loc[i, 'eventType'] == 'KICKOFF':\n",
    "            standard_start.append(i)\n",
    "\n",
    "    non_standard_start = list(set(events.index) - set(standard_start))\n",
    "\n",
    "    # Events that happen in the attacking third AND are not a 'standard situation'\n",
    "    attacking_third_non_standard_events = np.intersect1d(attacking_third_events, np.array(non_standard_start))\n",
    "\n",
    "    # Episodes that end in a shot\n",
    "    shots = events[events['eventType'] == 'SHOT'] # subset events DF to 'SHOT' events\n",
    "    shot_list = list(shots['episode']) # get list of episode numbers from this subset\n",
    "    shot_episode_start = np.where((events['episode'].isin(shot_list)) & (events['episodePosition'] == 1)) # find first event of these episodes\n",
    "\n",
    "    # Previous episode was for the opposition, with a set maximum duration and involved a set maximum number of players\n",
    "    high_pressing_episodes = []\n",
    "\n",
    "    for start_event in list(np.array(shot_episode_start).flatten()):\n",
    "        if events.loc[start_event, 'teamId'] != events.loc[start_event-1, 'teamId']: # if episode before belongs to the opposition\n",
    "            if events.loc[start_event-1, 'episodeCumDuration'] > min_duration: # if episode before was longer than 5 seconds\n",
    "                if events.loc[start_event-1, 'playersInEpisode'] > min_players: # if episode before involved more than 2 players\n",
    "                    high_pressing_episodes.append(start_event)\n",
    "\n",
    "    # Combine previous criteria\n",
    "    high_pressing_attacking_episodes = np.intersect1d(attacking_third_non_standard_events, np.array(high_pressing_episodes))\n",
    "    high_pressing_attacking_episodes_df = events.loc[high_pressing_attacking_episodes]\n",
    "    high_pressing_attacking_episode_numbers = list(high_pressing_attacking_episodes_df['episode'])\n",
    "\n",
    "    # Episodes where the shot happened within 15 seconds of the ball claim\n",
    "    final_idx = np.where((events['episode'].isin(high_pressing_attacking_episode_numbers)) & \n",
    "                         (events['eventType'] == 'SHOT') & \n",
    "                         (events['episodeCumDuration'] <= 15))\n",
    "    final_high_pressing_episodes = events.loc[final_idx]\n",
    "    final_high_pressing_episodes_numbers = list(final_high_pressing_episodes['episode'])\n",
    "\n",
    "    print(f'Match ID = {match_id}')\n",
    "    print(f'Minimum duration = {min_duration} seconds, Minimum number of players involved = {min_players}')\n",
    "    print(f'\"High pressing\" episode numbers: {final_high_pressing_episodes_numbers}')"
   ]
  },
  {
   "cell_type": "code",
   "execution_count": 7,
   "metadata": {},
   "outputs": [
    {
     "name": "stdout",
     "output_type": "stream",
     "text": [
      "Match ID = 7672\n",
      "Minimum duration = 5 seconds, Minimum number of players involved = 2\n",
      "\"High pressing\" episode numbers: [275.0]\n"
     ]
    }
   ],
   "source": [
    "high_pressing(7672,5,2)"
   ]
  },
  {
   "cell_type": "code",
   "execution_count": null,
   "metadata": {},
   "outputs": [],
   "source": []
  }
 ],
 "metadata": {
  "kernelspec": {
   "display_name": "Python 3",
   "language": "python",
   "name": "python3"
  },
  "language_info": {
   "codemirror_mode": {
    "name": "ipython",
    "version": 3
   },
   "file_extension": ".py",
   "mimetype": "text/x-python",
   "name": "python",
   "nbconvert_exporter": "python",
   "pygments_lexer": "ipython3",
   "version": "3.7.1"
  }
 },
 "nbformat": 4,
 "nbformat_minor": 4
}
